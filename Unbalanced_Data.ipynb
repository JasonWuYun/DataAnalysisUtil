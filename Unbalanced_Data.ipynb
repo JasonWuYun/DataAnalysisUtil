{
 "cells": [
  {
   "cell_type": "markdown",
   "metadata": {},
   "source": [
    "### Deal Unbalanced Data"
   ]
  },
  {
   "cell_type": "code",
   "execution_count": null,
   "metadata": {
    "collapsed": true
   },
   "outputs": [],
   "source": [
    "count_classes = pd.value_counts(data['Class'], sort = True).sort_index()\n",
    "count_classes.plot(kind = 'bar')\n",
    "plt.title(\"Fraud class histogram\")\n",
    "plt.xlabel(\"Class\")\n",
    "plt.ylabel(\"Frequency\")"
   ]
  },
  {
   "cell_type": "markdown",
   "metadata": {},
   "source": [
    "# Clearly the data is totally unbalanced!!\n",
    "This is a clear example where using a typical accuracy score to evaluate our classification algorithm. For example, if we just used a majority class to assign values to all records, we will still be having a high accuracy, BUT WE WOULD BE CLASSIFYING ALL \"1\" INCORRECTLY!!¶\n",
    "There are several ways to approach this classification problem taking into consideration this unbalance.\n",
    "\n",
    "    1.Collect more data? Nice strategy but not applicable in this case\n",
    "    2.Changing the performance metric:\n",
    "        a) Use the confusion nmatrix to calculate Precision, Recall\n",
    "        b) F1score (weighted average of precision recall)\n",
    "        c) Use Kappa - which is a classification accuracy normalized by the imbalance of the classes in the data\n",
    "        d) ROC curves - calculates sensitivity/specificity ratio.\n",
    "    3.Resampling the dataset\n",
    "        Essentially this is a method that will process the data to have an approximate 50-50 ratio.\n",
    "        One way to achieve this is by OVER-sampling, which is adding copies of the under-represented class (better when you have little data)\n",
    "        Another is UNDER-sampling, which deletes instances from the over-represented class (better when he have lot's of data)\n",
    "\n"
   ]
  },
  {
   "cell_type": "code",
   "execution_count": null,
   "metadata": {
    "collapsed": true
   },
   "outputs": [],
   "source": []
  }
 ],
 "metadata": {
  "anaconda-cloud": {},
  "kernelspec": {
   "display_name": "Python [conda root]",
   "language": "python",
   "name": "conda-root-py"
  },
  "language_info": {
   "codemirror_mode": {
    "name": "ipython",
    "version": 3
   },
   "file_extension": ".py",
   "mimetype": "text/x-python",
   "name": "python",
   "nbconvert_exporter": "python",
   "pygments_lexer": "ipython3",
   "version": "3.5.2"
  }
 },
 "nbformat": 4,
 "nbformat_minor": 1
}
